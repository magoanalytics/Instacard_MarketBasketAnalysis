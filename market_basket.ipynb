{
 "cells": [
  {
   "cell_type": "code",
   "execution_count": 1,
   "metadata": {},
   "outputs": [],
   "source": [
    "from mlxtend.frequent_patterns import apriori, association_rules\n",
    "import numpy as np\n",
    "import pandas as pd"
   ]
  },
  {
   "cell_type": "code",
   "execution_count": 2,
   "metadata": {},
   "outputs": [],
   "source": [
    "product = pd.read_csv(r'C:\\Users\\angel\\Documents\\Mago Analytics\\PwC\\Instacart_MarketBasketAnalysis\\data\\products.csv')"
   ]
  },
  {
   "cell_type": "code",
   "execution_count": 3,
   "metadata": {},
   "outputs": [],
   "source": [
    "train = pd.read_csv(r'C:\\Users\\angel\\Documents\\Mago Analytics\\PwC\\Instacart_MarketBasketAnalysis\\data\\order_products__train.csv')"
   ]
  },
  {
   "cell_type": "code",
   "execution_count": 4,
   "metadata": {},
   "outputs": [],
   "source": [
    "product = product.set_index('product_id')\n",
    "\n",
    "train = train.set_index('product_id')"
   ]
  },
  {
   "cell_type": "code",
   "execution_count": 5,
   "metadata": {},
   "outputs": [],
   "source": [
    "df = train.join(product, how='left', on=train.index)"
   ]
  },
  {
   "cell_type": "code",
   "execution_count": 6,
   "metadata": {},
   "outputs": [],
   "source": [
    "df = df.reset_index().set_index('order_id')"
   ]
  },
  {
   "cell_type": "code",
   "execution_count": 7,
   "metadata": {},
   "outputs": [],
   "source": [
    "order = pd.read_csv(r'C:\\Users\\angel\\Documents\\Mago Analytics\\PwC\\Instacart_MarketBasketAnalysis\\data\\orders.csv')"
   ]
  },
  {
   "cell_type": "code",
   "execution_count": 8,
   "metadata": {},
   "outputs": [
    {
     "data": {
      "text/plain": [
       "0    600905\n",
       "1    587478\n",
       "2    467260\n",
       "5    453368\n",
       "6    448761\n",
       "3    436972\n",
       "4    426339\n",
       "Name: order_dow, dtype: int64"
      ]
     },
     "execution_count": 8,
     "metadata": {},
     "output_type": "execute_result"
    }
   ],
   "source": [
    "order['order_dow'].value_counts()"
   ]
  },
  {
   "cell_type": "code",
   "execution_count": 9,
   "metadata": {},
   "outputs": [],
   "source": [
    "order = order.set_index('order_id')"
   ]
  },
  {
   "cell_type": "code",
   "execution_count": 10,
   "metadata": {},
   "outputs": [],
   "source": [
    "order = order[order['eval_set']=='train']"
   ]
  },
  {
   "cell_type": "code",
   "execution_count": 11,
   "metadata": {},
   "outputs": [],
   "source": [
    "df = df.join(order, on=df.index, how='left')"
   ]
  },
  {
   "cell_type": "code",
   "execution_count": 12,
   "metadata": {},
   "outputs": [],
   "source": [
    "df = df.reset_index().set_index(['order_dow', 'order_id'])"
   ]
  },
  {
   "cell_type": "code",
   "execution_count": 13,
   "metadata": {},
   "outputs": [],
   "source": [
    "df = df.drop(['reordered', 'aisle_id', 'department_id', 'user_id', 'order_number', 'order_hour_of_day', 'days_since_prior_order'], axis=1)"
   ]
  },
  {
   "cell_type": "code",
   "execution_count": 14,
   "metadata": {},
   "outputs": [],
   "source": [
    "final = df[['product_name']].reset_index()"
   ]
  },
  {
   "cell_type": "code",
   "execution_count": 18,
   "metadata": {},
   "outputs": [],
   "source": [
    "def mba(df, day):\n",
    "    # Creating dictionary for days\n",
    "    days_dict = {0:'Sun', 1:'Mon', 2:'Tues', 3:'Wed', 4:'Thurs', 5:'Fri', 6:'Sat'}\n",
    "    \n",
    "    # Adding a unit to the dataframe\n",
    "    final['units'] = 1\n",
    "    \n",
    "    # Creating market basket dataframe with products as columns and transactions as rows\n",
    "    global df_day\n",
    "    df_day = pd.pivot_table(data=final[final['order_dow'] == day], \n",
    "                            values='units', \n",
    "                            index=['order_dow', 'order_id'], \n",
    "                            columns='product_name').fillna(0)\n",
    "\n",
    "    # Creating frequent itemsets\n",
    "    global freq_items\n",
    "    freq_items = pd.DataFrame(apriori(df_day.reset_index().drop('order_dow', axis=1).drop('order_id', axis=1), \n",
    "                                      min_support=0.01, use_colnames=True, verbose=1, max_len=4))\n",
    "\n",
    "    global rules\n",
    "    # Creating metrics: support, confidence, and lift\n",
    "    rules = pd.DataFrame(association_rules(freq_items, \n",
    "                                       metric=\"confidence\", \n",
    "                                       min_threshold=0.01).sort_values('confidence', ascending=False))\n",
    "    rules['day'] = days_dict[day]\n",
    "    rules.to_csv(('rules'+str(days_dict[day])+'.csv'))"
   ]
  },
  {
   "cell_type": "code",
   "execution_count": 19,
   "metadata": {},
   "outputs": [
    {
     "name": "stdout",
     "output_type": "stream",
     "text": [
      "Processing 1086 combinations | Sampling itemset size 3\n"
     ]
    }
   ],
   "source": [
    "mba(final, 0)"
   ]
  },
  {
   "cell_type": "code",
   "execution_count": 20,
   "metadata": {},
   "outputs": [
    {
     "data": {
      "text/html": [
       "<div>\n",
       "<style scoped>\n",
       "    .dataframe tbody tr th:only-of-type {\n",
       "        vertical-align: middle;\n",
       "    }\n",
       "\n",
       "    .dataframe tbody tr th {\n",
       "        vertical-align: top;\n",
       "    }\n",
       "\n",
       "    .dataframe thead th {\n",
       "        text-align: right;\n",
       "    }\n",
       "</style>\n",
       "<table border=\"1\" class=\"dataframe\">\n",
       "  <thead>\n",
       "    <tr style=\"text-align: right;\">\n",
       "      <th></th>\n",
       "      <th>antecedents</th>\n",
       "      <th>consequents</th>\n",
       "      <th>antecedent support</th>\n",
       "      <th>consequent support</th>\n",
       "      <th>support</th>\n",
       "      <th>confidence</th>\n",
       "      <th>lift</th>\n",
       "      <th>leverage</th>\n",
       "      <th>conviction</th>\n",
       "      <th>day</th>\n",
       "    </tr>\n",
       "  </thead>\n",
       "  <tbody>\n",
       "    <tr>\n",
       "      <th>35</th>\n",
       "      <td>(Organic Fuji Apple)</td>\n",
       "      <td>(Banana)</td>\n",
       "      <td>0.028254</td>\n",
       "      <td>0.171309</td>\n",
       "      <td>0.010450</td>\n",
       "      <td>0.369845</td>\n",
       "      <td>2.158938</td>\n",
       "      <td>0.005609</td>\n",
       "      <td>1.315060</td>\n",
       "      <td>Sun</td>\n",
       "    </tr>\n",
       "    <tr>\n",
       "      <th>23</th>\n",
       "      <td>(Honeycrisp Apple)</td>\n",
       "      <td>(Banana)</td>\n",
       "      <td>0.035063</td>\n",
       "      <td>0.171309</td>\n",
       "      <td>0.012926</td>\n",
       "      <td>0.368640</td>\n",
       "      <td>2.151900</td>\n",
       "      <td>0.006919</td>\n",
       "      <td>1.312549</td>\n",
       "      <td>Sun</td>\n",
       "    </tr>\n",
       "    <tr>\n",
       "      <th>43</th>\n",
       "      <td>(Strawberries)</td>\n",
       "      <td>(Banana)</td>\n",
       "      <td>0.056800</td>\n",
       "      <td>0.171309</td>\n",
       "      <td>0.020353</td>\n",
       "      <td>0.358333</td>\n",
       "      <td>2.091738</td>\n",
       "      <td>0.010623</td>\n",
       "      <td>1.291467</td>\n",
       "      <td>Sun</td>\n",
       "    </tr>\n",
       "    <tr>\n",
       "      <th>9</th>\n",
       "      <td>(Organic Hass Avocado)</td>\n",
       "      <td>(Bag of Organic Bananas)</td>\n",
       "      <td>0.069070</td>\n",
       "      <td>0.129583</td>\n",
       "      <td>0.022902</td>\n",
       "      <td>0.331576</td>\n",
       "      <td>2.558792</td>\n",
       "      <td>0.013952</td>\n",
       "      <td>1.302193</td>\n",
       "      <td>Sun</td>\n",
       "    </tr>\n",
       "    <tr>\n",
       "      <th>21</th>\n",
       "      <td>(Broccoli Crown)</td>\n",
       "      <td>(Banana)</td>\n",
       "      <td>0.032223</td>\n",
       "      <td>0.171309</td>\n",
       "      <td>0.010522</td>\n",
       "      <td>0.326554</td>\n",
       "      <td>1.906227</td>\n",
       "      <td>0.005002</td>\n",
       "      <td>1.230523</td>\n",
       "      <td>Sun</td>\n",
       "    </tr>\n",
       "  </tbody>\n",
       "</table>\n",
       "</div>"
      ],
      "text/plain": [
       "               antecedents               consequents  antecedent support  \\\n",
       "35    (Organic Fuji Apple)                  (Banana)            0.028254   \n",
       "23      (Honeycrisp Apple)                  (Banana)            0.035063   \n",
       "43          (Strawberries)                  (Banana)            0.056800   \n",
       "9   (Organic Hass Avocado)  (Bag of Organic Bananas)            0.069070   \n",
       "21        (Broccoli Crown)                  (Banana)            0.032223   \n",
       "\n",
       "    consequent support   support  confidence      lift  leverage  conviction  \\\n",
       "35            0.171309  0.010450    0.369845  2.158938  0.005609    1.315060   \n",
       "23            0.171309  0.012926    0.368640  2.151900  0.006919    1.312549   \n",
       "43            0.171309  0.020353    0.358333  2.091738  0.010623    1.291467   \n",
       "9             0.129583  0.022902    0.331576  2.558792  0.013952    1.302193   \n",
       "21            0.171309  0.010522    0.326554  1.906227  0.005002    1.230523   \n",
       "\n",
       "    day  \n",
       "35  Sun  \n",
       "23  Sun  \n",
       "43  Sun  \n",
       "9   Sun  \n",
       "21  Sun  "
      ]
     },
     "execution_count": 20,
     "metadata": {},
     "output_type": "execute_result"
    }
   ],
   "source": [
    "rules.head()"
   ]
  }
 ],
 "metadata": {
  "kernelspec": {
   "display_name": "Python 3",
   "language": "python",
   "name": "python3"
  },
  "language_info": {
   "codemirror_mode": {
    "name": "ipython",
    "version": 3
   },
   "file_extension": ".py",
   "mimetype": "text/x-python",
   "name": "python",
   "nbconvert_exporter": "python",
   "pygments_lexer": "ipython3",
   "version": "3.7.3"
  }
 },
 "nbformat": 4,
 "nbformat_minor": 2
}
